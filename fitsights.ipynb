{
 "cells": [
  {
   "cell_type": "code",
   "execution_count": null,
   "metadata": {},
   "outputs": [],
   "source": [
    "import pandas as pd\n",
    "import seaborn as sns\n",
    "import matplotlib.pyplot as plt\n",
    "sns.set(style='white', palette='husl')\n",
    "import os"
   ]
  },
  {
   "cell_type": "code",
   "execution_count": null,
   "metadata": {},
   "outputs": [],
   "source": [
    "def read_file(filepath, plot = True):\n",
    "    file = pd.read_csv(filepath, header=1)\n",
    "    df = file.set_index('Week').stack().reset_index()\n",
    "    df.columns = ['week','region','interest']\n",
    "    df['week'] = pd.to_datetime(df['week'])\n",
    "    plt.figure(figsize=(8,3))\n",
    "    df = df[df['interest']!=\"<1\"]\n",
    "    df['interest'] = df['interest'].astype(float)\n",
    "\n",
    "    if plot:\n",
    "        sns.lineplot(data = df, x= 'week', y= 'interest',hue='region')\n",
    "    return df"
   ]
  },
  {
   "cell_type": "code",
   "execution_count": null,
   "metadata": {},
   "outputs": [],
   "source": [
    "def read_geo(filepath, multi=False):\n",
    "    file = pd.read_csv(filepath, header=1)\n",
    "\n",
    "    if not multi:\n",
    "        file.columns = ['country', 'interest']\n",
    "        plt.figure(figsize=(8,4))\n",
    "        sns.barplot(data = file.dropna().iloc[:25,:], y = 'country', x='interest')\n",
    "\n",
    "    if multi:\n",
    "        plt.figure(figsize=(3,8))\n",
    "        file = file.set_index('Country').stack().reset_index()\n",
    "        file.columns = ['country','category','interest']\n",
    "        file['interest'] = pd.to_numeric(file['interest'].apply(lambda x: x[:-1]))\n",
    "        sns.barplot(data=file.dropna(), y = 'country', x='interest', hue='category')\n",
    "\n",
    "    file = file.sort_values(ascending=False,by='interest')\n",
    "    return file"
   ]
  },
  {
   "cell_type": "code",
   "execution_count": null,
   "metadata": {},
   "outputs": [],
   "source": [
    "workout = read_file('data/workout.csv')\n",
    "workout"
   ]
  },
  {
   "cell_type": "code",
   "execution_count": null,
   "metadata": {},
   "outputs": [],
   "source": [
    "workout_by_month = workout.set_index('week').resample('MS').mean()\n",
    "workout_by_month"
   ]
  },
  {
   "cell_type": "code",
   "execution_count": null,
   "metadata": {},
   "outputs": [],
   "source": [
    "month_high = workout_by_month[workout_by_month['interest']==workout_by_month['interest'].max()]\n",
    "month_high"
   ]
  },
  {
   "cell_type": "code",
   "execution_count": null,
   "metadata": {},
   "outputs": [],
   "source": [
    "workout = read_file('data/three_keywords.csv')\n",
    "current = 'gym workout'\n",
    "peak_covid = 'home workout'"
   ]
  },
  {
   "cell_type": "code",
   "execution_count": null,
   "metadata": {},
   "outputs": [],
   "source": [
    "workout_global = read_geo('data/workout_global.csv')\n",
    "workout_global"
   ]
  },
  {
   "cell_type": "code",
   "execution_count": null,
   "metadata": {},
   "outputs": [],
   "source": [
    "top_25_countries = workout_global.head(25)\n",
    "top_country = top_25_countries['country'].iloc[0] # => \"United States\""
   ]
  },
  {
   "cell_type": "code",
   "execution_count": null,
   "metadata": {},
   "outputs": [],
   "source": [
    "geo_categories = read_geo('data/geo_three_keywords.csv', multi=True)\n",
    "geo_categories"
   ]
  },
  {
   "cell_type": "code",
   "execution_count": null,
   "metadata": {},
   "outputs": [],
   "source": [
    "MESA_countries = [\"Philippines\", \"Singapore\", \"United Arab Emirates\", \"Qatar\", \"Kuwait\", \"Malaysia\", \"Sri Lanka\", \"India\", \"Pakistan\", \"Lebanon\"]\n",
    "MESA = geo_categories.loc[geo_categories.country.isin(MESA_countries), :]\n",
    "MESA"
   ]
  }
 ],
 "metadata": {
  "language_info": {
   "name": "python"
  }
 },
 "nbformat": 4,
 "nbformat_minor": 2
}
